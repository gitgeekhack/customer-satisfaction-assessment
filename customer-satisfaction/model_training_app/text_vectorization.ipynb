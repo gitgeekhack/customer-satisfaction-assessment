{
 "cells": [
  {
   "cell_type": "code",
   "execution_count": null,
   "id": "554ed050-f211-40ec-8481-de846ed4f183",
   "metadata": {},
   "outputs": [],
   "source": [
    "import pandas as pd\n",
    "import re"
   ]
  },
  {
   "cell_type": "code",
   "execution_count": null,
   "id": "8cf5983d-e8cb-4da4-991b-ac686dd95627",
   "metadata": {},
   "outputs": [],
   "source": [
    "data = pd.read_csv('processed_conversation.csv')"
   ]
  },
  {
   "cell_type": "code",
   "execution_count": null,
   "id": "44c117e7-bd3c-4fd9-b8da-e9f8448c5af1",
   "metadata": {},
   "outputs": [],
   "source": [
    "print(\"Shape : {}\".format(data.shape))\n",
    "data.head()"
   ]
  },
  {
   "cell_type": "code",
   "execution_count": null,
   "id": "ad028b37-88db-4d56-a037-c6a8c439a633",
   "metadata": {},
   "outputs": [],
   "source": [
    "# extract message field and convert message field into list\n",
    "messages = list(data['lemma'])"
   ]
  },
  {
   "cell_type": "code",
   "execution_count": null,
   "id": "dde21205-b75e-4d6e-bc55-3d8236e89a3d",
   "metadata": {},
   "outputs": [],
   "source": [
    "temp = data['message'][84]"
   ]
  },
  {
   "cell_type": "code",
   "execution_count": null,
   "id": "a6c54908-83c1-4e88-9141-e3b210d3b2d3",
   "metadata": {},
   "outputs": [],
   "source": [
    "temp"
   ]
  },
  {
   "cell_type": "code",
   "execution_count": null,
   "id": "86a7f6a4-56f5-4693-8202-01c93df76648",
   "metadata": {},
   "outputs": [],
   "source": [
    "temp = temp.split('\\n')"
   ]
  },
  {
   "cell_type": "code",
   "execution_count": null,
   "id": "582f6894-7843-4567-a792-06ae59fbee8d",
   "metadata": {},
   "outputs": [],
   "source": [
    "for i in range(len(temp)):\n",
    "    text = re.sub('[^a-zA-Z0-9(+*) \\n\\.]', ' ', temp[i])\n",
    "    # text = tp[i]\n",
    "    print(\"{} -> {}\".format(i, text))"
   ]
  },
  {
   "cell_type": "code",
   "execution_count": null,
   "id": "449a6fef-bf72-4f8b-8a77-1d8d647e8442",
   "metadata": {},
   "outputs": [],
   "source": [
    "from gensim.models.phrases import Phrases, Phraser"
   ]
  },
  {
   "cell_type": "code",
   "execution_count": null,
   "id": "c1b4da6a-261f-4705-aa76-6e7d8a5cff88",
   "metadata": {},
   "outputs": [],
   "source": [
    "sent = [row.split() for row in messages]"
   ]
  },
  {
   "cell_type": "code",
   "execution_count": null,
   "id": "f3289330-54fe-49ed-a3e6-7115477adfed",
   "metadata": {},
   "outputs": [],
   "source": [
    "phrases = Phrases(sent, min_count=1, progress_per=10000)"
   ]
  },
  {
   "cell_type": "code",
   "execution_count": null,
   "id": "44685a94-1c19-4652-8682-f187c14c71c2",
   "metadata": {},
   "outputs": [],
   "source": [
    "sentences = phrases[sent]"
   ]
  },
  {
   "cell_type": "code",
   "execution_count": null,
   "id": "1164c55f-21f7-4849-bc66-be56261006dc",
   "metadata": {},
   "outputs": [],
   "source": [
    "from collections import defaultdict"
   ]
  },
  {
   "cell_type": "code",
   "execution_count": null,
   "id": "88ace5b3-819e-4eff-896b-73d739da3653",
   "metadata": {},
   "outputs": [],
   "source": [
    "word_freq = defaultdict(int)\n",
    "for sent in sentences:\n",
    "    for i in sent:\n",
    "        word_freq[i] += 1\n",
    "len(word_freq)"
   ]
  },
  {
   "cell_type": "code",
   "execution_count": null,
   "id": "6393f730-8179-4f95-a762-8b0c96ab0d8e",
   "metadata": {},
   "outputs": [],
   "source": [
    "sorted(word_freq, key=word_freq.get, reverse=True)[:10]"
   ]
  },
  {
   "cell_type": "code",
   "execution_count": null,
   "id": "3cee68a7-925c-47bd-9713-d080f70b0d4a",
   "metadata": {},
   "outputs": [],
   "source": [
    "from gensim.models import Word2Vec"
   ]
  },
  {
   "cell_type": "code",
   "execution_count": null,
   "id": "91cd8d39-cee2-4c91-9fe3-3a4781000976",
   "metadata": {},
   "outputs": [],
   "source": [
    "w2v_model = Word2Vec(min_count=1, window=2, vector_size=100, alpha=0.03, negative=20, workers=3)"
   ]
  },
  {
   "cell_type": "code",
   "execution_count": null,
   "id": "59e02a81-c470-4c46-98e4-5c5c24ad017e",
   "metadata": {},
   "outputs": [],
   "source": [
    "w2v_model.build_vocab(sentences, progress_per=10000)"
   ]
  },
  {
   "cell_type": "code",
   "execution_count": null,
   "id": "a8c4b94c-376d-4bc7-86f7-31654874287f",
   "metadata": {},
   "outputs": [],
   "source": [
    "w2v_model.train(sentences, total_examples=w2v_model.corpus_count, epochs=30, report_delay=1)"
   ]
  },
  {
   "cell_type": "code",
   "execution_count": null,
   "id": "121aee5a-ca2e-4183-aa02-61c732732864",
   "metadata": {},
   "outputs": [],
   "source": [
    "vocab_len = len(w2v_model.wv)  "
   ]
  },
  {
   "cell_type": "code",
   "execution_count": null,
   "id": "c19b0245-cbdc-4c5f-9f2f-a79c5281d60e",
   "metadata": {},
   "outputs": [],
   "source": [
    "w2v_model.wv.get_vector('welcome')"
   ]
  },
  {
   "cell_type": "code",
   "execution_count": null,
   "id": "9554deb8-622a-4ec1-b24b-edb3286c2615",
   "metadata": {},
   "outputs": [],
   "source": [
    "w2v_model.wv.key_to_index[\"hi\"]"
   ]
  },
  {
   "cell_type": "code",
   "execution_count": null,
   "id": "f7cf52e9-269e-4ec9-919a-67d0995724d8",
   "metadata": {},
   "outputs": [],
   "source": [
    "# GloVe word embedding technique\n",
    "import os\n",
    "from scipy import spatial\n",
    "import numpy as np"
   ]
  },
  {
   "cell_type": "code",
   "execution_count": null,
   "id": "4b575cf7-b50a-490a-8844-c6bb17683129",
   "metadata": {},
   "outputs": [],
   "source": [
    "%%time\n",
    "embeddings_index = {}\n",
    "with open('glove.6B.200d.txt','r') as f:\n",
    "  for line in f:\n",
    "    values = line.split()\n",
    "    word = values[0]\n",
    "    vector = np.asarray(values[1:],'float32')\n",
    "    embeddings_index[word] = vector\n",
    "\n",
    "print(\"Found %s word vectors.\" % len(embeddings_index))"
   ]
  },
  {
   "cell_type": "code",
   "execution_count": null,
   "id": "f7e7b77d-f9af-44d1-9961-3acea9d71a9c",
   "metadata": {},
   "outputs": [],
   "source": [
    "def find_similar_word(emmbedes):\n",
    "  nearest = sorted(embeddings_index.keys(), key=lambda word: spatial.distance.euclidean(embeddings_index[word], emmbedes))\n",
    "  return nearest"
   ]
  },
  {
   "cell_type": "code",
   "execution_count": null,
   "id": "31b79de9-a2ea-4ec9-9ff7-a45c593a76da",
   "metadata": {},
   "outputs": [],
   "source": [
    "find_similar_word(embeddings_index['happy'])[1:10]"
   ]
  },
  {
   "cell_type": "code",
   "execution_count": null,
   "id": "c7f92da4-51b2-4838-8cd8-6556e8b412f1",
   "metadata": {},
   "outputs": [],
   "source": [
    "import tensorflow as tf"
   ]
  },
  {
   "cell_type": "code",
   "execution_count": null,
   "id": "b5d8b621-936b-49b0-a2dc-4e645f16952f",
   "metadata": {},
   "outputs": [],
   "source": [
    "from tensorflow.keras.preprocessing import text"
   ]
  },
  {
   "cell_type": "code",
   "execution_count": null,
   "id": "a859a623-63a3-41ef-9209-7cf6dd30a2e8",
   "metadata": {},
   "outputs": [],
   "source": [
    "tokens = text.Tokenizer()"
   ]
  },
  {
   "cell_type": "code",
   "execution_count": null,
   "id": "3deff3b6-988b-4d45-93a7-6ad867ca218f",
   "metadata": {},
   "outputs": [],
   "source": [
    "tokens.fit_on_texts(messages)"
   ]
  },
  {
   "cell_type": "code",
   "execution_count": null,
   "id": "8372f336-c5b7-451b-9f41-6c45dc753269",
   "metadata": {},
   "outputs": [],
   "source": [
    "vocab_size = len(tokens.word_index)"
   ]
  },
  {
   "cell_type": "code",
   "execution_count": null,
   "id": "67bbe818-c7bf-4c7c-b4e7-f5ae68a1cc23",
   "metadata": {},
   "outputs": [],
   "source": [
    "vocab_size"
   ]
  },
  {
   "cell_type": "code",
   "execution_count": null,
   "id": "b2148a44-6d57-4f72-8b44-033a59e4a6bc",
   "metadata": {},
   "outputs": [],
   "source": [
    "print(tokens.index_word)"
   ]
  },
  {
   "cell_type": "code",
   "execution_count": null,
   "id": "721f1f98-cfe4-4553-8f82-e6573f9cc7c0",
   "metadata": {},
   "outputs": [],
   "source": [
    "encoded_text = tokens.texts_to_sequences(messages)"
   ]
  },
  {
   "cell_type": "code",
   "execution_count": null,
   "id": "417151b3-dae7-467d-a49c-2e5124c45a9c",
   "metadata": {},
   "outputs": [],
   "source": [
    "encoded_text[0]"
   ]
  },
  {
   "cell_type": "code",
   "execution_count": null,
   "id": "dd152183-6aa2-4079-94f3-2ca3daf36374",
   "metadata": {},
   "outputs": [],
   "source": [
    "from keras.preprocessing.sequence import pad_sequences"
   ]
  },
  {
   "cell_type": "code",
   "execution_count": null,
   "id": "29742612-ac41-4703-986c-5a8c40546d4d",
   "metadata": {},
   "outputs": [],
   "source": [
    "max_len = 120\n",
    "x = pad_sequences(encoded_text, maxlen=max_len, padding='post')"
   ]
  },
  {
   "cell_type": "code",
   "execution_count": null,
   "id": "d9b5f393-78f0-41f9-9964-8d6b08c47ad9",
   "metadata": {},
   "outputs": [],
   "source": [
    "word_vector_matrix = np.zeros((vocab_size+1, 200))\n",
    "\n",
    "for word, index in tokens.word_index.items():\n",
    "    vector = embeddings_index.get(word)\n",
    "    if vector is not None:\n",
    "        word_vector_matrix[index] = vector\n",
    "    else:\n",
    "        print(word)"
   ]
  }
 ],
 "metadata": {
  "kernelspec": {
   "display_name": "Python 3 (ipykernel)",
   "language": "python",
   "name": "python3"
  },
  "language_info": {
   "codemirror_mode": {
    "name": "ipython",
    "version": 3
   },
   "file_extension": ".py",
   "mimetype": "text/x-python",
   "name": "python",
   "nbconvert_exporter": "python",
   "pygments_lexer": "ipython3",
   "version": "3.8.10"
  }
 },
 "nbformat": 4,
 "nbformat_minor": 5
}
