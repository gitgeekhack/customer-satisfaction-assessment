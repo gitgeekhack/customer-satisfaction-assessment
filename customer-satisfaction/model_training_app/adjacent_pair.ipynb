{
 "cells": [
  {
   "cell_type": "code",
   "execution_count": null,
   "id": "65afd575-5309-43b9-a070-8512274fb04f",
   "metadata": {},
   "outputs": [],
   "source": [
    "import pandas as pd"
   ]
  },
  {
   "cell_type": "code",
   "execution_count": null,
   "id": "0d9f5957-de1b-4c08-8cd0-5b92cf929722",
   "metadata": {},
   "outputs": [],
   "source": [
    "data = pd.read_csv(\"processed_conversation.csv\")"
   ]
  },
  {
   "cell_type": "code",
   "execution_count": null,
   "id": "0f143ec6-53b0-4375-b0d9-49e2f889b0d2",
   "metadata": {},
   "outputs": [],
   "source": [
    "data.head()"
   ]
  },
  {
   "cell_type": "code",
   "execution_count": null,
   "id": "bf227b00-cf50-46df-a6bc-6a53c7e8efb7",
   "metadata": {
    "tags": []
   },
   "outputs": [],
   "source": [
    "data.isnull().sum()"
   ]
  },
  {
   "cell_type": "code",
   "execution_count": null,
   "id": "01a22088-ffcb-4be4-b2a8-449a9a061e62",
   "metadata": {
    "tags": []
   },
   "outputs": [],
   "source": [
    "len(data)"
   ]
  },
  {
   "cell_type": "code",
   "execution_count": null,
   "id": "223d0023-d3b7-41fc-b590-c739cc90d50c",
   "metadata": {},
   "outputs": [],
   "source": [
    "data.shape"
   ]
  },
  {
   "cell_type": "code",
   "execution_count": null,
   "id": "3723ef08-5f96-47fa-8c3d-4d304b476326",
   "metadata": {},
   "outputs": [],
   "source": [
    "data['message'][3]"
   ]
  },
  {
   "cell_type": "code",
   "execution_count": null,
   "id": "8bf1ce3e-f359-4535-a305-3fe795ab94ef",
   "metadata": {},
   "outputs": [],
   "source": [
    "temp = {}\n",
    "cnt = 0\n",
    "for i in range(len(data)):\n",
    "    if data['created_by'][i] != 'Customer':\n",
    "        try : \n",
    "            temp[cnt] = temp[cnt] + \" , \" + data['message'][i]\n",
    "        except : \n",
    "            temp[cnt] = data['message'][i]\n",
    "        \n",
    "    if data['created_by'][i] == 'Customer':\n",
    "        try : \n",
    "            temp[cnt] = temp[cnt] + \" , \" + data['message'][i]\n",
    "        except : \n",
    "            temp[cnt] = data['message'][i]\n",
    "        cnt += 1"
   ]
  },
  {
   "cell_type": "code",
   "execution_count": null,
   "id": "cc3c9ef8-831a-4f0f-b0d9-33e37123993c",
   "metadata": {},
   "outputs": [],
   "source": [
    "dict_values = temp.values()\n",
    "adj_pair = list(dict_values)"
   ]
  },
  {
   "cell_type": "code",
   "execution_count": null,
   "id": "27be2304-efb6-41fa-aac7-a76f71458a5f",
   "metadata": {},
   "outputs": [],
   "source": [
    "adj_pair"
   ]
  }
 ],
 "metadata": {
  "kernelspec": {
   "display_name": "Python 3 (ipykernel)",
   "language": "python",
   "name": "python3"
  },
  "language_info": {
   "codemirror_mode": {
    "name": "ipython",
    "version": 3
   },
   "file_extension": ".py",
   "mimetype": "text/x-python",
   "name": "python",
   "nbconvert_exporter": "python",
   "pygments_lexer": "ipython3",
   "version": "3.8.10"
  }
 },
 "nbformat": 4,
 "nbformat_minor": 5
}
