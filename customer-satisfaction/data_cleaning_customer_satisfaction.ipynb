{
 "cells": [
  {
   "cell_type": "code",
   "execution_count": 2,
   "metadata": {
    "executionInfo": {
     "elapsed": 454,
     "status": "ok",
     "timestamp": 1644987106799,
     "user": {
      "displayName": "Vivek Parmar",
      "photoUrl": "https://lh3.googleusercontent.com/a-/AOh14GhZUAGue2HesDlFXTuoQkLv7fJRu3JrHVQCpDzd=s64",
      "userId": "05136078745021665153"
     },
     "user_tz": -330
    },
    "id": "I1CWRIo-uilD"
   },
   "outputs": [],
   "source": [
    "# pandas for processing\n",
    "import pandas as pd\n",
    "import re"
   ]
  },
  {
   "cell_type": "code",
   "execution_count": 3,
   "metadata": {
    "executionInfo": {
     "elapsed": 4,
     "status": "ok",
     "timestamp": 1644987109360,
     "user": {
      "displayName": "Vivek Parmar",
      "photoUrl": "https://lh3.googleusercontent.com/a-/AOh14GhZUAGue2HesDlFXTuoQkLv7fJRu3JrHVQCpDzd=s64",
      "userId": "05136078745021665153"
     },
     "user_tz": -330
    },
    "id": "V1QklNWjunnf"
   },
   "outputs": [],
   "source": [
    "data = pd.read_csv(\"transformed_data.csv\") # read csv file"
   ]
  },
  {
   "cell_type": "code",
   "execution_count": 4,
   "metadata": {
    "colab": {
     "base_uri": "https://localhost:8080/",
     "height": 206
    },
    "executionInfo": {
     "elapsed": 460,
     "status": "ok",
     "timestamp": 1644987112238,
     "user": {
      "displayName": "Vivek Parmar",
      "photoUrl": "https://lh3.googleusercontent.com/a-/AOh14GhZUAGue2HesDlFXTuoQkLv7fJRu3JrHVQCpDzd=s64",
      "userId": "05136078745021665153"
     },
     "user_tz": -330
    },
    "id": "kegfV8XoZJW1",
    "outputId": "dc4ed737-95aa-436b-8751-d0e2d9315562"
   },
   "outputs": [
    {
     "data": {
      "text/html": [
       "<div>\n",
       "<style scoped>\n",
       "    .dataframe tbody tr th:only-of-type {\n",
       "        vertical-align: middle;\n",
       "    }\n",
       "\n",
       "    .dataframe tbody tr th {\n",
       "        vertical-align: top;\n",
       "    }\n",
       "\n",
       "    .dataframe thead th {\n",
       "        text-align: right;\n",
       "    }\n",
       "</style>\n",
       "<table border=\"1\" class=\"dataframe\">\n",
       "  <thead>\n",
       "    <tr style=\"text-align: right;\">\n",
       "      <th></th>\n",
       "      <th>thread_id</th>\n",
       "      <th>created_at</th>\n",
       "      <th>created_by</th>\n",
       "      <th>message</th>\n",
       "    </tr>\n",
       "  </thead>\n",
       "  <tbody>\n",
       "    <tr>\n",
       "      <th>0</th>\n",
       "      <td>8b8c697f82ce40e4a04138383676ef5a</td>\n",
       "      <td>2021-07-28T19:12:56.844000+00:00</td>\n",
       "      <td>Bot</td>\n",
       "      <td>Hi, I am Srijan Chat Bot. Welcome to Srijan.</td>\n",
       "    </tr>\n",
       "    <tr>\n",
       "      <th>1</th>\n",
       "      <td>8b8c697f82ce40e4a04138383676ef5a</td>\n",
       "      <td>2021-07-28T19:12:56.845000+00:00</td>\n",
       "      <td>Bot</td>\n",
       "      <td>What can I help you with today?</td>\n",
       "    </tr>\n",
       "    <tr>\n",
       "      <th>2</th>\n",
       "      <td>8b8c697f82ce40e4a04138383676ef5a</td>\n",
       "      <td>2021-07-28T19:13:13.712000+00:00</td>\n",
       "      <td>Customer</td>\n",
       "      <td>Property Requirement</td>\n",
       "    </tr>\n",
       "    <tr>\n",
       "      <th>3</th>\n",
       "      <td>8b8c697f82ce40e4a04138383676ef5a</td>\n",
       "      <td>2021-07-28T19:13:13.874000+00:00</td>\n",
       "      <td>Bot</td>\n",
       "      <td>Sure. I will assist you in shortlisting the pr...</td>\n",
       "    </tr>\n",
       "    <tr>\n",
       "      <th>4</th>\n",
       "      <td>8b8c697f82ce40e4a04138383676ef5a</td>\n",
       "      <td>2021-07-28T19:13:13.875000+00:00</td>\n",
       "      <td>Bot</td>\n",
       "      <td>Let's start with your name.</td>\n",
       "    </tr>\n",
       "  </tbody>\n",
       "</table>\n",
       "</div>"
      ],
      "text/plain": [
       "                          thread_id                        created_at  \\\n",
       "0  8b8c697f82ce40e4a04138383676ef5a  2021-07-28T19:12:56.844000+00:00   \n",
       "1  8b8c697f82ce40e4a04138383676ef5a  2021-07-28T19:12:56.845000+00:00   \n",
       "2  8b8c697f82ce40e4a04138383676ef5a  2021-07-28T19:13:13.712000+00:00   \n",
       "3  8b8c697f82ce40e4a04138383676ef5a  2021-07-28T19:13:13.874000+00:00   \n",
       "4  8b8c697f82ce40e4a04138383676ef5a  2021-07-28T19:13:13.875000+00:00   \n",
       "\n",
       "  created_by                                            message  \n",
       "0        Bot       Hi, I am Srijan Chat Bot. Welcome to Srijan.  \n",
       "1        Bot                    What can I help you with today?  \n",
       "2   Customer                               Property Requirement  \n",
       "3        Bot  Sure. I will assist you in shortlisting the pr...  \n",
       "4        Bot                        Let's start with your name.  "
      ]
     },
     "execution_count": 4,
     "metadata": {},
     "output_type": "execute_result"
    }
   ],
   "source": [
    "# data = data.iloc[: , 1:]  # remove index first column\n",
    "data.head()"
   ]
  },
  {
   "cell_type": "code",
   "execution_count": 5,
   "metadata": {
    "colab": {
     "base_uri": "https://localhost:8080/"
    },
    "executionInfo": {
     "elapsed": 434,
     "status": "ok",
     "timestamp": 1644987117328,
     "user": {
      "displayName": "Vivek Parmar",
      "photoUrl": "https://lh3.googleusercontent.com/a-/AOh14GhZUAGue2HesDlFXTuoQkLv7fJRu3JrHVQCpDzd=s64",
      "userId": "05136078745021665153"
     },
     "user_tz": -330
    },
    "id": "TwvQH96M6_Pt",
    "outputId": "9498fc80-511a-4a1a-f3a6-2feaabebda59"
   },
   "outputs": [
    {
     "data": {
      "text/plain": [
       "(189, 4)"
      ]
     },
     "execution_count": 5,
     "metadata": {},
     "output_type": "execute_result"
    }
   ],
   "source": [
    "# shape of our data\n",
    "data.shape"
   ]
  },
  {
   "cell_type": "code",
   "execution_count": 7,
   "metadata": {},
   "outputs": [
    {
     "data": {
      "text/plain": [
       "thread_id     0\n",
       "created_at    0\n",
       "created_by    0\n",
       "message       6\n",
       "dtype: int64"
      ]
     },
     "execution_count": 7,
     "metadata": {},
     "output_type": "execute_result"
    }
   ],
   "source": [
    "data.isnull().sum() # checking for null value"
   ]
  },
  {
   "cell_type": "code",
   "execution_count": 8,
   "metadata": {},
   "outputs": [],
   "source": [
    "data.dropna(inplace=True)\n",
    "data = data.reset_index()"
   ]
  },
  {
   "cell_type": "code",
   "execution_count": 9,
   "metadata": {},
   "outputs": [],
   "source": [
    "data = data.drop('index', axis=1)"
   ]
  },
  {
   "cell_type": "code",
   "execution_count": null,
   "metadata": {
    "colab": {
     "base_uri": "https://localhost:8080/"
    },
    "executionInfo": {
     "elapsed": 405,
     "status": "ok",
     "timestamp": 1644987236269,
     "user": {
      "displayName": "Vivek Parmar",
      "photoUrl": "https://lh3.googleusercontent.com/a-/AOh14GhZUAGue2HesDlFXTuoQkLv7fJRu3JrHVQCpDzd=s64",
      "userId": "05136078745021665153"
     },
     "user_tz": -330
    },
    "id": "cexJTBgc7MXq",
    "outputId": "438cbff8-8f8d-4ae5-d9a0-9570debd15b9"
   },
   "outputs": [],
   "source": [
    "data['thread_id'].unique().shape"
   ]
  },
  {
   "cell_type": "code",
   "execution_count": null,
   "metadata": {
    "colab": {
     "base_uri": "https://localhost:8080/"
    },
    "executionInfo": {
     "elapsed": 657,
     "status": "ok",
     "timestamp": 1644987238865,
     "user": {
      "displayName": "Vivek Parmar",
      "photoUrl": "https://lh3.googleusercontent.com/a-/AOh14GhZUAGue2HesDlFXTuoQkLv7fJRu3JrHVQCpDzd=s64",
      "userId": "05136078745021665153"
     },
     "user_tz": -330
    },
    "id": "B88RFQIe2umW",
    "outputId": "ca657def-aa74-4b97-e670-b80f77144283"
   },
   "outputs": [],
   "source": [
    "# count unique thread_id\n",
    "data['thread_id'].value_counts()\n",
    "# data['thread_id'].value_counts().shape"
   ]
  },
  {
   "cell_type": "code",
   "execution_count": null,
   "metadata": {
    "id": "rnKb19R58EQ4"
   },
   "outputs": [],
   "source": [
    "data['created_by'].unique()\n",
    "data['created_by'].value_counts()"
   ]
  },
  {
   "cell_type": "code",
   "execution_count": null,
   "metadata": {
    "id": "OGvgjQozEosI"
   },
   "outputs": [],
   "source": [
    "import nltk # importing nltk for preprocessed data"
   ]
  },
  {
   "cell_type": "code",
   "execution_count": null,
   "metadata": {},
   "outputs": [],
   "source": [
    "# whiteSpaceTokenizer \n",
    "from nltk.tokenize import WhitespaceTokenizer\n",
    "wst = WhitespaceTokenizer()"
   ]
  },
  {
   "cell_type": "code",
   "execution_count": null,
   "metadata": {},
   "outputs": [],
   "source": [
    "tokens = [] # list for storing tokenized Words\n",
    "\n",
    "length_data = len(data) # length of dataframe\n",
    "\n",
    "for idx in range(length_data):\n",
    "    text = re.sub('[^a-zA-Z0-9(+*) \\n\\.]', ' ',data['message'][idx]) # removing umwanted symbols\n",
    "    tokens.append(wst.tokenize(text))"
   ]
  },
  {
   "cell_type": "code",
   "execution_count": null,
   "metadata": {
    "id": "zHpObFJzoK2z"
   },
   "outputs": [],
   "source": [
    "# for lemmatization of words, use spacy library\n",
    "import spacy\n",
    "spacy_obj = spacy.load('en_core_web_sm', disable=['parser', 'ner'])"
   ]
  },
  {
   "cell_type": "code",
   "execution_count": null,
   "metadata": {},
   "outputs": [],
   "source": [
    "# process of lemmatization\n",
    "lemmatized_texts = []\n",
    "for i in range(len(data['message'])):\n",
    "    text = re.sub('[^a-zA-Z0-9(+*) \\n\\.]', ' ',data['message'][i]) # removing umwanted symbols\n",
    "    text = text.lower()\n",
    "    text = re.sub(\"\\s+\", \" \", text)\n",
    "    lemmatized_texts.append([token.lemma_ for token in spacy_obj((text)) if not token.is_punct])"
   ]
  },
  {
   "cell_type": "code",
   "execution_count": null,
   "metadata": {},
   "outputs": [],
   "source": [
    "# combining list's words into single string\n",
    "clean_list = []\n",
    "\n",
    "for i in range(len(lemmatized_texts)):\n",
    "    clean_list.append(\" \".join(lemmatized_texts[i]))"
   ]
  },
  {
   "cell_type": "code",
   "execution_count": null,
   "metadata": {},
   "outputs": [],
   "source": [
    "# drop 'message' column from data\n",
    "data.drop('message', axis=1, inplace=True)"
   ]
  },
  {
   "cell_type": "code",
   "execution_count": null,
   "metadata": {},
   "outputs": [],
   "source": [
    "data['message'] = clean_list"
   ]
  },
  {
   "cell_type": "code",
   "execution_count": null,
   "metadata": {},
   "outputs": [],
   "source": [
    "# save processed conversation csv file\n",
    "data.to_csv('processed_conversation.csv', index=False)"
   ]
  }
 ],
 "metadata": {
  "colab": {
   "authorship_tag": "ABX9TyO9rx/xQmCObBhn3k6Rf6tp",
   "collapsed_sections": [],
   "name": "data_cleaning_customer_satisfaction.ipynb",
   "provenance": []
  },
  "kernelspec": {
   "display_name": "Python 3 (ipykernel)",
   "language": "python",
   "name": "python3"
  },
  "language_info": {
   "codemirror_mode": {
    "name": "ipython",
    "version": 3
   },
   "file_extension": ".py",
   "mimetype": "text/x-python",
   "name": "python",
   "nbconvert_exporter": "python",
   "pygments_lexer": "ipython3",
   "version": "3.8.10"
  }
 },
 "nbformat": 4,
 "nbformat_minor": 4
}
