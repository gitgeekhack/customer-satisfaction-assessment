{
 "cells": [
  {
   "cell_type": "code",
   "execution_count": null,
   "metadata": {
    "executionInfo": {
     "elapsed": 454,
     "status": "ok",
     "timestamp": 1644987106799,
     "user": {
      "displayName": "Vivek Parmar",
      "photoUrl": "https://lh3.googleusercontent.com/a-/AOh14GhZUAGue2HesDlFXTuoQkLv7fJRu3JrHVQCpDzd=s64",
      "userId": "05136078745021665153"
     },
     "user_tz": -330
    },
    "id": "I1CWRIo-uilD"
   },
   "outputs": [],
   "source": [
    "# pandas for processing\n",
    "import pandas as pd\n",
    "import re"
   ]
  },
  {
   "cell_type": "code",
   "execution_count": null,
   "metadata": {
    "executionInfo": {
     "elapsed": 4,
     "status": "ok",
     "timestamp": 1644987109360,
     "user": {
      "displayName": "Vivek Parmar",
      "photoUrl": "https://lh3.googleusercontent.com/a-/AOh14GhZUAGue2HesDlFXTuoQkLv7fJRu3JrHVQCpDzd=s64",
      "userId": "05136078745021665153"
     },
     "user_tz": -330
    },
    "id": "V1QklNWjunnf"
   },
   "outputs": [],
   "source": [
    "data = pd.read_csv(\"transformed_data.csv\") # read csv file"
   ]
  },
  {
   "cell_type": "code",
   "execution_count": null,
   "metadata": {
    "colab": {
     "base_uri": "https://localhost:8080/",
     "height": 206
    },
    "executionInfo": {
     "elapsed": 460,
     "status": "ok",
     "timestamp": 1644987112238,
     "user": {
      "displayName": "Vivek Parmar",
      "photoUrl": "https://lh3.googleusercontent.com/a-/AOh14GhZUAGue2HesDlFXTuoQkLv7fJRu3JrHVQCpDzd=s64",
      "userId": "05136078745021665153"
     },
     "user_tz": -330
    },
    "id": "kegfV8XoZJW1",
    "outputId": "dc4ed737-95aa-436b-8751-d0e2d9315562"
   },
   "outputs": [],
   "source": [
    "# data = data.iloc[: , 1:]  # remove index first column\n",
    "data.head()"
   ]
  },
  {
   "cell_type": "code",
   "execution_count": null,
   "metadata": {
    "colab": {
     "base_uri": "https://localhost:8080/"
    },
    "executionInfo": {
     "elapsed": 434,
     "status": "ok",
     "timestamp": 1644987117328,
     "user": {
      "displayName": "Vivek Parmar",
      "photoUrl": "https://lh3.googleusercontent.com/a-/AOh14GhZUAGue2HesDlFXTuoQkLv7fJRu3JrHVQCpDzd=s64",
      "userId": "05136078745021665153"
     },
     "user_tz": -330
    },
    "id": "TwvQH96M6_Pt",
    "outputId": "9498fc80-511a-4a1a-f3a6-2feaabebda59"
   },
   "outputs": [],
   "source": [
    "# shape of our data\n",
    "data.shape"
   ]
  },
  {
   "cell_type": "code",
   "execution_count": null,
   "metadata": {},
   "outputs": [],
   "source": [
    "data.isnull().sum()  # checking for null value"
   ]
  },
  {
   "cell_type": "code",
   "execution_count": null,
   "metadata": {},
   "outputs": [],
   "source": [
    "data.dropna(inplace=True)\n",
    "data = data.reset_index()"
   ]
  },
  {
   "cell_type": "code",
   "execution_count": null,
   "metadata": {},
   "outputs": [],
   "source": [
    "data = data.drop('index', axis=1)"
   ]
  },
  {
   "cell_type": "code",
   "execution_count": null,
   "metadata": {
    "colab": {
     "base_uri": "https://localhost:8080/"
    },
    "executionInfo": {
     "elapsed": 405,
     "status": "ok",
     "timestamp": 1644987236269,
     "user": {
      "displayName": "Vivek Parmar",
      "photoUrl": "https://lh3.googleusercontent.com/a-/AOh14GhZUAGue2HesDlFXTuoQkLv7fJRu3JrHVQCpDzd=s64",
      "userId": "05136078745021665153"
     },
     "user_tz": -330
    },
    "id": "cexJTBgc7MXq",
    "outputId": "438cbff8-8f8d-4ae5-d9a0-9570debd15b9"
   },
   "outputs": [],
   "source": [
    "data['thread_id'].unique().shape"
   ]
  },
  {
   "cell_type": "code",
   "execution_count": null,
   "metadata": {
    "colab": {
     "base_uri": "https://localhost:8080/"
    },
    "executionInfo": {
     "elapsed": 657,
     "status": "ok",
     "timestamp": 1644987238865,
     "user": {
      "displayName": "Vivek Parmar",
      "photoUrl": "https://lh3.googleusercontent.com/a-/AOh14GhZUAGue2HesDlFXTuoQkLv7fJRu3JrHVQCpDzd=s64",
      "userId": "05136078745021665153"
     },
     "user_tz": -330
    },
    "id": "B88RFQIe2umW",
    "outputId": "ca657def-aa74-4b97-e670-b80f77144283"
   },
   "outputs": [],
   "source": [
    "# count unique thread_id\n",
    "data['thread_id'].value_counts()\n",
    "# data['thread_id'].value_counts().shape"
   ]
  },
  {
   "cell_type": "code",
   "execution_count": null,
   "metadata": {
    "id": "rnKb19R58EQ4"
   },
   "outputs": [],
   "source": [
    "data['created_by'].unique()\n",
    "data['created_by'].value_counts()"
   ]
  },
  {
   "cell_type": "code",
   "execution_count": null,
   "metadata": {
    "id": "OGvgjQozEosI"
   },
   "outputs": [],
   "source": [
    "import nltk # importing nltk for preprocessed data"
   ]
  },
  {
   "cell_type": "code",
   "execution_count": null,
   "metadata": {},
   "outputs": [],
   "source": [
    "# whiteSpaceTokenizer \n",
    "from nltk.tokenize import WhitespaceTokenizer\n",
    "wst = WhitespaceTokenizer()"
   ]
  },
  {
   "cell_type": "code",
   "execution_count": null,
   "metadata": {},
   "outputs": [],
   "source": [
    "tokens = [] # list for storing tokenized Words\n",
    "\n",
    "length_data = len(data) # length of dataframe\n",
    "\n",
    "for idx in range(length_data):\n",
    "    text = re.sextract_transform_data.pyub('[^a-zA-Z0-9(+*) \\n\\.]', ' ',data['message'][idx]) # removing umwanted symbols\n",
    "    tokens.append(wst.tokenize(text))"
   ]
  },
  {
   "cell_type": "code",
   "execution_count": null,
   "metadata": {
    "id": "zHpObFJzoK2z"
   },
   "outputs": [],
   "source": [
    "# for lemmatization of words, use spacy library\n",
    "import spacy\n",
    "spacy_obj = spacy.load('en_core_web_sm', disable=['parser', 'ner'])"
   ]
  },
  {
   "cell_type": "code",
   "execution_count": null,
   "metadata": {},
   "outputs": [],
   "source": [
    "# process of lemmatization\n",
    "lemmatized_texts = []\n",
    "for i in range(len(data['message'])):\n",
    "    text = re.sub('[^a-zA-Z0-9(+*) \\n\\.]', ' ',data['message'][i]) # removing umwanted symbols\n",
    "    text = text.lower()\n",
    "    text = re.sub(\"\\s+\", \" \", text)\n",
    "    lemmatized_texts.append([token.lemma_ for token in spacy_obj((text)) if not token.is_punct])"
   ]
  },
  {
   "cell_type": "code",
   "execution_count": null,
   "metadata": {},
   "outputs": [],
   "source": [
    "# combining list's words into single string\n",
    "clean_list = []\n",
    "\n",
    "for i in range(len(lemmatized_texts)):\n",
    "    clean_list.append(\" \".join(lemmatized_texts[i]))"
   ]
  },
  {
   "cell_type": "code",
   "execution_count": null,
   "metadata": {},
   "outputs": [],
   "source": [
    "# drop 'message' column from data\n",
    "data.drop('message', axis=1, inplace=True)"
   ]
  },
  {
   "cell_type": "code",
   "execution_count": null,
   "metadata": {},
   "outputs": [],
   "source": [
    "data['message'] = clean_list"
   ]
  },
  {
   "cell_type": "code",
   "execution_count": null,
   "metadata": {},
   "outputs": [],
   "source": [
    "# save processed conversation csv file\n",
    "data.to_csv('processed_conversation.csv', index=False)"
   ]
  }
 ],
 "metadata": {
  "colab": {
   "authorship_tag": "ABX9TyO9rx/xQmCObBhn3k6Rf6tp",
   "collapsed_sections": [],
   "name": "data_cleaning_customer_satisfaction.ipynb",
   "provenance": []
  },
  "kernelspec": {
   "display_name": "Python 3 (ipykernel)",
   "language": "python",
   "name": "python3"
  },
  "language_info": {
   "codemirror_mode": {
    "name": "ipython",
    "version": 3
   },
   "file_extension": ".py",
   "mimetype": "text/x-python",
   "name": "python",
   "nbconvert_exporter": "python",
   "pygments_lexer": "ipython3",
   "version": "3.8.10"
  }
 },
 "nbformat": 4,
 "nbformat_minor": 4
}
